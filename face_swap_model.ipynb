{
  "nbformat": 4,
  "nbformat_minor": 0,
  "metadata": {
    "colab": {
      "provenance": [],
      "private_outputs": true
    },
    "kernelspec": {
      "name": "python3",
      "display_name": "Python 3"
    },
    "language_info": {
      "name": "python"
    },
    "accelerator": "GPU",
    "gpuClass": "standard"
  },
  "cells": [
    {
      "cell_type": "code",
      "execution_count": null,
      "metadata": {
        "id": "5yUboO9Q9mnG"
      },
      "outputs": [],
      "source": [
        "!git clone https://github.com/neuralchen/SimSwap\n",
        "#clone simswap repository into this notebook"
      ]
    },
    {
      "cell_type": "code",
      "source": [
        "!pip3 install torch torchvision torchaudio --extra-index-url https://download.pytorch.org/whl/cu113\n",
        "#install pytorch module"
      ],
      "metadata": {
        "id": "z0rFHJZJ-YvI"
      },
      "execution_count": null,
      "outputs": []
    },
    {
      "cell_type": "code",
      "source": [
        "!pip install insightface==0.2.1 onnxruntime-gpu moviepy\n",
        "#install dependencies by simswap jjn\n"
      ],
      "metadata": {
        "id": "UVJHPLc8_IFT"
      },
      "execution_count": null,
      "outputs": []
    },
    {
      "cell_type": "code",
      "source": [
        "!wget --no-check-certificate \"https://sh23tw.dm.files.1drv.com/y4mmGiIkNVigkSwOKDcV3nwMJulRGhbtHdkheehR5TArc52UjudUYNXAEvKCii2O5LAmzGCGK6IfleocxuDeoKxDZkNzDRSt4ZUlEt8GlSOpCXAFEkBwaZimtWGDRbpIGpb_pz9Nq5jATBQpezBS6G_UtspWTkgrXHHxhviV2nWy8APPx134zOZrUIbkSF6xnsqzs3uZ_SEX_m9Rey0ykpx9w\" -O antelope.zip\n",
        "!unzip '/content/antelope.zip' -d '/content/SimSwap/insightface_func/models'"
      ],
      "metadata": {
        "id": "2w5zOc7Y_PDw"
      },
      "execution_count": null,
      "outputs": []
    },
    {
      "cell_type": "code",
      "source": [
        "!wget -P /content/SimSwap/parsing_model/checkpoint https://github.com/neuralchen/SimSwap/releases/download/1.0/79999_iter.pth"
      ],
      "metadata": {
        "id": "w71yn4jIAoeg"
      },
      "execution_count": null,
      "outputs": []
    },
    {
      "cell_type": "code",
      "source": [
        "!wget -P /content/SimSwap/arcface_model https://github.com/neuralchen/SimSwap/releases/download/1.0/arcface_checkpoint.tar\n",
        "!wget https://github.com/neuralchen/SimSwap/releases/download/1.0/checkpoints.zip\n",
        "!unzip '/content/checkpoints.zip'  -d '/content/'\n"
      ],
      "metadata": {
        "id": "3kFjvgmCI8IP"
      },
      "execution_count": null,
      "outputs": []
    },
    {
      "cell_type": "code",
      "source": [
        "%%shell\n",
        "cd SimSwap"
      ],
      "metadata": {
        "id": "yrMlRh8EP6bx"
      },
      "execution_count": null,
      "outputs": []
    },
    {
      "cell_type": "code",
      "source": [
        "%%shell\n",
        "python /content/SimSwap/test_one_image.py --name /content/people --Arc_path /content/SimSwap/arcface_model/arcface_checkpoint.tar --pic_a_path /content/SimSwap/crop_224/ape.jpg --pic_b_path /content/SimSwap/crop_224/6.jpg --output_path /content/SimSwap/Untitled/"
      ],
      "metadata": {
        "id": "Byi8jGOQPIsT"
      },
      "execution_count": null,
      "outputs": []
    }
  ]
}